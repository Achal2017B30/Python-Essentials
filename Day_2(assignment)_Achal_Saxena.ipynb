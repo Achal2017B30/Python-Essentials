{
  "nbformat": 4,
  "nbformat_minor": 0,
  "metadata": {
    "colab": {
      "name": "Day 2(assignment)_Achal Saxena.ipynb",
      "provenance": [],
      "toc_visible": true,
      "authorship_tag": "ABX9TyNuxdnZiJEOFgbpXB4wybnO",
      "include_colab_link": true
    },
    "kernelspec": {
      "name": "python3",
      "display_name": "Python 3"
    }
  },
  "cells": [
    {
      "cell_type": "markdown",
      "metadata": {
        "id": "view-in-github",
        "colab_type": "text"
      },
      "source": [
        "<a href=\"https://colab.research.google.com/github/Achal2017B30/Python-Essentials/blob/master/Day_2(assignment)_Achal_Saxena.ipynb\" target=\"_parent\"><img src=\"https://colab.research.google.com/assets/colab-badge.svg\" alt=\"Open In Colab\"/></a>"
      ]
    },
    {
      "cell_type": "markdown",
      "metadata": {
        "id": "2956aQv87LUZ",
        "colab_type": "text"
      },
      "source": [
        "#List\n"
      ]
    },
    {
      "cell_type": "code",
      "metadata": {
        "id": "WtS8MRE965Sl",
        "colab_type": "code",
        "colab": {}
      },
      "source": [
        "list1 = [34, 'Achal', [0,1,2]]\n"
      ],
      "execution_count": 7,
      "outputs": []
    },
    {
      "cell_type": "code",
      "metadata": {
        "id": "Opkb4yQ97dYB",
        "colab_type": "code",
        "colab": {
          "base_uri": "https://localhost:8080/",
          "height": 34
        },
        "outputId": "effc5794-4dff-4686-9527-f4d241e3309a"
      },
      "source": [
        "list1.append(\"kite\")\n",
        "print(list1)"
      ],
      "execution_count": 8,
      "outputs": [
        {
          "output_type": "stream",
          "text": [
            "[34, 'Achal', [0, 1, 2], 'kite']\n"
          ],
          "name": "stdout"
        }
      ]
    },
    {
      "cell_type": "code",
      "metadata": {
        "id": "wWrLYTru7dZT",
        "colab_type": "code",
        "colab": {
          "base_uri": "https://localhost:8080/",
          "height": 34
        },
        "outputId": "d1b86aeb-b734-455c-b334-48ec304b4cd3"
      },
      "source": [
        "list1.extend([\"Sai\", 30])\n",
        "print(list1)"
      ],
      "execution_count": 9,
      "outputs": [
        {
          "output_type": "stream",
          "text": [
            "[34, 'Achal', [0, 1, 2], 'kite', 'Sai', 30]\n"
          ],
          "name": "stdout"
        }
      ]
    },
    {
      "cell_type": "code",
      "metadata": {
        "id": "0k1APU1v7dcp",
        "colab_type": "code",
        "colab": {
          "base_uri": "https://localhost:8080/",
          "height": 34
        },
        "outputId": "df974260-a17d-4ac0-a3d4-ae24cccf3c72"
      },
      "source": [
        "list1.remove(34)\n",
        "print(list1)"
      ],
      "execution_count": 10,
      "outputs": [
        {
          "output_type": "stream",
          "text": [
            "['Achal', [0, 1, 2], 'kite', 'Sai', 30]\n"
          ],
          "name": "stdout"
        }
      ]
    },
    {
      "cell_type": "code",
      "metadata": {
        "id": "LdkY_JGY7dfj",
        "colab_type": "code",
        "colab": {
          "base_uri": "https://localhost:8080/",
          "height": 34
        },
        "outputId": "bc2ac124-9de8-4acd-a739-327bc629cbdc"
      },
      "source": [
        "list1.reverse()\n",
        "print(list1)"
      ],
      "execution_count": 11,
      "outputs": [
        {
          "output_type": "stream",
          "text": [
            "[30, 'Sai', 'kite', [0, 1, 2], 'Achal']\n"
          ],
          "name": "stdout"
        }
      ]
    },
    {
      "cell_type": "code",
      "metadata": {
        "id": "Vns-6GqK7eF0",
        "colab_type": "code",
        "colab": {
          "base_uri": "https://localhost:8080/",
          "height": 34
        },
        "outputId": "e44d0130-3ca9-4cae-9aa7-dd2fde86899a"
      },
      "source": [
        "list1.pop(3)\n",
        "print(list1)"
      ],
      "execution_count": 12,
      "outputs": [
        {
          "output_type": "stream",
          "text": [
            "[30, 'Sai', 'kite', 'Achal']\n"
          ],
          "name": "stdout"
        }
      ]
    },
    {
      "cell_type": "markdown",
      "metadata": {
        "id": "2xYPcZbM-zsk",
        "colab_type": "text"
      },
      "source": [
        "#Dictionary"
      ]
    },
    {
      "cell_type": "code",
      "metadata": {
        "id": "Zd2coyWZ-7xL",
        "colab_type": "code",
        "colab": {}
      },
      "source": [
        "dict1 = {\"A\" : 1, \"B\" : 2, \"C\" : 3}"
      ],
      "execution_count": 35,
      "outputs": []
    },
    {
      "cell_type": "code",
      "metadata": {
        "id": "5E_HktXW-8a_",
        "colab_type": "code",
        "colab": {
          "base_uri": "https://localhost:8080/",
          "height": 34
        },
        "outputId": "6617c8ac-b038-4f42-ed75-174adf93cc0b"
      },
      "source": [
        "dict1.update({\"D\" : 4})\n",
        "print(dict1)"
      ],
      "execution_count": 36,
      "outputs": [
        {
          "output_type": "stream",
          "text": [
            "{'A': 1, 'B': 2, 'C': 3, 'D': 4}\n"
          ],
          "name": "stdout"
        }
      ]
    },
    {
      "cell_type": "code",
      "metadata": {
        "id": "beL_MvAX-8xJ",
        "colab_type": "code",
        "colab": {
          "base_uri": "https://localhost:8080/",
          "height": 34
        },
        "outputId": "30f27d7a-62e9-41c8-d762-ada979e143b0"
      },
      "source": [
        "dict2 = dict1.copy()\n",
        "print(dict2)"
      ],
      "execution_count": 37,
      "outputs": [
        {
          "output_type": "stream",
          "text": [
            "{'A': 1, 'B': 2, 'C': 3, 'D': 4}\n"
          ],
          "name": "stdout"
        }
      ]
    },
    {
      "cell_type": "code",
      "metadata": {
        "id": "bd3s0hCg-8-6",
        "colab_type": "code",
        "colab": {
          "base_uri": "https://localhost:8080/",
          "height": 34
        },
        "outputId": "e27b4bb9-e49a-4094-ab94-4b5cb118fcf3"
      },
      "source": [
        "dict2.pop(\"B\")"
      ],
      "execution_count": 38,
      "outputs": [
        {
          "output_type": "execute_result",
          "data": {
            "text/plain": [
              "2"
            ]
          },
          "metadata": {
            "tags": []
          },
          "execution_count": 38
        }
      ]
    },
    {
      "cell_type": "code",
      "metadata": {
        "id": "O_raB1YI-8fE",
        "colab_type": "code",
        "colab": {
          "base_uri": "https://localhost:8080/",
          "height": 34
        },
        "outputId": "2f9739ef-a9d6-46bd-aff4-e763bcb20a34"
      },
      "source": [
        "dict1.keys()"
      ],
      "execution_count": 39,
      "outputs": [
        {
          "output_type": "execute_result",
          "data": {
            "text/plain": [
              "dict_keys(['A', 'B', 'C', 'D'])"
            ]
          },
          "metadata": {
            "tags": []
          },
          "execution_count": 39
        }
      ]
    },
    {
      "cell_type": "code",
      "metadata": {
        "id": "56Hm2TYh-8Y3",
        "colab_type": "code",
        "colab": {
          "base_uri": "https://localhost:8080/",
          "height": 34
        },
        "outputId": "d74a3f7f-9bbd-4532-adf3-232e24c95091"
      },
      "source": [
        "dict1.values()"
      ],
      "execution_count": 40,
      "outputs": [
        {
          "output_type": "execute_result",
          "data": {
            "text/plain": [
              "dict_values([1, 2, 3, 4])"
            ]
          },
          "metadata": {
            "tags": []
          },
          "execution_count": 40
        }
      ]
    },
    {
      "cell_type": "markdown",
      "metadata": {
        "id": "L6dnK7hOCiDh",
        "colab_type": "text"
      },
      "source": [
        "#Set\n"
      ]
    },
    {
      "cell_type": "code",
      "metadata": {
        "id": "2JAA4NnYDSVv",
        "colab_type": "code",
        "colab": {}
      },
      "source": [
        "set1 = {1,2,3,4,5}"
      ],
      "execution_count": 41,
      "outputs": []
    },
    {
      "cell_type": "code",
      "metadata": {
        "id": "LzUEeKV3DSe_",
        "colab_type": "code",
        "colab": {
          "base_uri": "https://localhost:8080/",
          "height": 34
        },
        "outputId": "4242e10b-7395-435a-c30a-8811887890b5"
      },
      "source": [
        "set1.discard(5)\n",
        "print(set1)"
      ],
      "execution_count": 43,
      "outputs": [
        {
          "output_type": "stream",
          "text": [
            "{1, 2, 3, 4}\n"
          ],
          "name": "stdout"
        }
      ]
    },
    {
      "cell_type": "code",
      "metadata": {
        "id": "SUlRax_KDTUL",
        "colab_type": "code",
        "colab": {
          "base_uri": "https://localhost:8080/",
          "height": 34
        },
        "outputId": "3275893d-b687-4107-9d6c-ad049bf02aff"
      },
      "source": [
        "set2 = set1.copy()\n",
        "print(set2)"
      ],
      "execution_count": 51,
      "outputs": [
        {
          "output_type": "stream",
          "text": [
            "{1, 2, 3, 4}\n"
          ],
          "name": "stdout"
        }
      ]
    },
    {
      "cell_type": "code",
      "metadata": {
        "id": "m3Rda5-uDSdq",
        "colab_type": "code",
        "colab": {
          "base_uri": "https://localhost:8080/",
          "height": 34
        },
        "outputId": "5df1bce5-3dd0-4e34-9eac-9333ec3ff17e"
      },
      "source": [
        "set2.pop()"
      ],
      "execution_count": 52,
      "outputs": [
        {
          "output_type": "execute_result",
          "data": {
            "text/plain": [
              "1"
            ]
          },
          "metadata": {
            "tags": []
          },
          "execution_count": 52
        }
      ]
    },
    {
      "cell_type": "code",
      "metadata": {
        "id": "bVcoGxdcETXx",
        "colab_type": "code",
        "colab": {
          "base_uri": "https://localhost:8080/",
          "height": 34
        },
        "outputId": "4b6cc0ff-8d49-45ea-8508-a55e75c275c3"
      },
      "source": [
        "print(set2)"
      ],
      "execution_count": 55,
      "outputs": [
        {
          "output_type": "stream",
          "text": [
            "{2, 3, 4}\n"
          ],
          "name": "stdout"
        }
      ]
    },
    {
      "cell_type": "code",
      "metadata": {
        "id": "yWosVk8NDSb-",
        "colab_type": "code",
        "colab": {
          "base_uri": "https://localhost:8080/",
          "height": 34
        },
        "outputId": "e154b7d0-fc8a-4771-8d01-c53e9f3397c9"
      },
      "source": [
        "set2.issubset(set1)"
      ],
      "execution_count": 53,
      "outputs": [
        {
          "output_type": "execute_result",
          "data": {
            "text/plain": [
              "True"
            ]
          },
          "metadata": {
            "tags": []
          },
          "execution_count": 53
        }
      ]
    },
    {
      "cell_type": "code",
      "metadata": {
        "id": "85Z0ZcrqDSSi",
        "colab_type": "code",
        "colab": {
          "base_uri": "https://localhost:8080/",
          "height": 34
        },
        "outputId": "9a6a4554-8122-49a4-ea2b-150f8ef2c6e5"
      },
      "source": [
        "set1.intersection(set2)"
      ],
      "execution_count": 54,
      "outputs": [
        {
          "output_type": "execute_result",
          "data": {
            "text/plain": [
              "{2, 3, 4}"
            ]
          },
          "metadata": {
            "tags": []
          },
          "execution_count": 54
        }
      ]
    },
    {
      "cell_type": "markdown",
      "metadata": {
        "id": "oBl7OpgsEbgW",
        "colab_type": "text"
      },
      "source": [
        "#Tuple"
      ]
    },
    {
      "cell_type": "code",
      "metadata": {
        "id": "eoHbjRJdEd_4",
        "colab_type": "code",
        "colab": {}
      },
      "source": [
        "tuple1 = (1,2,3,4,1,2,1)"
      ],
      "execution_count": 58,
      "outputs": []
    },
    {
      "cell_type": "code",
      "metadata": {
        "id": "Or5Y4f_bEeDW",
        "colab_type": "code",
        "colab": {
          "base_uri": "https://localhost:8080/",
          "height": 34
        },
        "outputId": "f8e32bf4-065c-4321-d517-6b3ce88f3a92"
      },
      "source": [
        "tuple1.count(1)"
      ],
      "execution_count": 59,
      "outputs": [
        {
          "output_type": "execute_result",
          "data": {
            "text/plain": [
              "3"
            ]
          },
          "metadata": {
            "tags": []
          },
          "execution_count": 59
        }
      ]
    },
    {
      "cell_type": "code",
      "metadata": {
        "id": "kyNT4L0kEeIi",
        "colab_type": "code",
        "colab": {
          "base_uri": "https://localhost:8080/",
          "height": 34
        },
        "outputId": "71d07cfd-b91c-4b14-8cdf-a60b014afcc1"
      },
      "source": [
        "tuple1.index(1) # so it gives 1st element index when same element are there"
      ],
      "execution_count": 61,
      "outputs": [
        {
          "output_type": "execute_result",
          "data": {
            "text/plain": [
              "0"
            ]
          },
          "metadata": {
            "tags": []
          },
          "execution_count": 61
        }
      ]
    },
    {
      "cell_type": "code",
      "metadata": {
        "id": "8f_48NWqEeNG",
        "colab_type": "code",
        "colab": {
          "base_uri": "https://localhost:8080/",
          "height": 34
        },
        "outputId": "edaa98c4-85ab-480e-e3d8-7748252fd857"
      },
      "source": [
        "tuple1.count(2)"
      ],
      "execution_count": 63,
      "outputs": [
        {
          "output_type": "execute_result",
          "data": {
            "text/plain": [
              "2"
            ]
          },
          "metadata": {
            "tags": []
          },
          "execution_count": 63
        }
      ]
    },
    {
      "cell_type": "code",
      "metadata": {
        "id": "eRZj_EGjEeHU",
        "colab_type": "code",
        "colab": {
          "base_uri": "https://localhost:8080/",
          "height": 34
        },
        "outputId": "709a5373-88ad-4fb6-d554-51fb0601f348"
      },
      "source": [
        "tuple1.index(3)"
      ],
      "execution_count": 64,
      "outputs": [
        {
          "output_type": "execute_result",
          "data": {
            "text/plain": [
              "2"
            ]
          },
          "metadata": {
            "tags": []
          },
          "execution_count": 64
        }
      ]
    },
    {
      "cell_type": "markdown",
      "metadata": {
        "id": "i0HRdICMFxXt",
        "colab_type": "text"
      },
      "source": [
        "#String"
      ]
    },
    {
      "cell_type": "code",
      "metadata": {
        "id": "Uf0OydPmF06N",
        "colab_type": "code",
        "colab": {}
      },
      "source": [
        "string1 = \"Achal Saxena\""
      ],
      "execution_count": 65,
      "outputs": []
    },
    {
      "cell_type": "code",
      "metadata": {
        "id": "TH-fl8JmF0_Q",
        "colab_type": "code",
        "colab": {
          "base_uri": "https://localhost:8080/",
          "height": 34
        },
        "outputId": "bac57492-a45c-45ea-a202-045d54f46cec"
      },
      "source": [
        "string1.islower()"
      ],
      "execution_count": 66,
      "outputs": [
        {
          "output_type": "execute_result",
          "data": {
            "text/plain": [
              "False"
            ]
          },
          "metadata": {
            "tags": []
          },
          "execution_count": 66
        }
      ]
    },
    {
      "cell_type": "code",
      "metadata": {
        "id": "uoSLyWc8F1Cf",
        "colab_type": "code",
        "colab": {
          "base_uri": "https://localhost:8080/",
          "height": 34
        },
        "outputId": "c4c508e2-5fdd-444f-ec60-ceeeaecc3452"
      },
      "source": [
        "string1.index(\"a\")"
      ],
      "execution_count": 68,
      "outputs": [
        {
          "output_type": "execute_result",
          "data": {
            "text/plain": [
              "3"
            ]
          },
          "metadata": {
            "tags": []
          },
          "execution_count": 68
        }
      ]
    },
    {
      "cell_type": "code",
      "metadata": {
        "id": "772T3IsPF1Fo",
        "colab_type": "code",
        "colab": {
          "base_uri": "https://localhost:8080/",
          "height": 34
        },
        "outputId": "f9999050-bc79-4af5-ac86-34c67218cb54"
      },
      "source": [
        "string1.isprintable()"
      ],
      "execution_count": 69,
      "outputs": [
        {
          "output_type": "execute_result",
          "data": {
            "text/plain": [
              "True"
            ]
          },
          "metadata": {
            "tags": []
          },
          "execution_count": 69
        }
      ]
    },
    {
      "cell_type": "code",
      "metadata": {
        "id": "SR-wVrgaF09x",
        "colab_type": "code",
        "colab": {
          "base_uri": "https://localhost:8080/",
          "height": 35
        },
        "outputId": "f9918431-8928-45ec-8b9e-90ec57811b15"
      },
      "source": [
        "string1.replace(\"Achal\", \"Sai\")"
      ],
      "execution_count": 70,
      "outputs": [
        {
          "output_type": "execute_result",
          "data": {
            "application/vnd.google.colaboratory.intrinsic+json": {
              "type": "string"
            },
            "text/plain": [
              "'Sai Saxena'"
            ]
          },
          "metadata": {
            "tags": []
          },
          "execution_count": 70
        }
      ]
    },
    {
      "cell_type": "code",
      "metadata": {
        "id": "w6DYBJSqF05A",
        "colab_type": "code",
        "colab": {
          "base_uri": "https://localhost:8080/",
          "height": 34
        },
        "outputId": "855a67a2-684d-429b-a15f-39c7a02e6484"
      },
      "source": [
        "string1.istitle()"
      ],
      "execution_count": 71,
      "outputs": [
        {
          "output_type": "execute_result",
          "data": {
            "text/plain": [
              "True"
            ]
          },
          "metadata": {
            "tags": []
          },
          "execution_count": 71
        }
      ]
    }
  ]
}