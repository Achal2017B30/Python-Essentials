{
  "nbformat": 4,
  "nbformat_minor": 0,
  "metadata": {
    "colab": {
      "name": "Day 4(assignment) Achal Saxena.ipynb",
      "provenance": [],
      "authorship_tag": "ABX9TyNPVkOF0Lf8ElvVVy8aAEPZ",
      "include_colab_link": true
    },
    "kernelspec": {
      "name": "python3",
      "display_name": "Python 3"
    }
  },
  "cells": [
    {
      "cell_type": "markdown",
      "metadata": {
        "id": "view-in-github",
        "colab_type": "text"
      },
      "source": [
        "<a href=\"https://colab.research.google.com/github/Achal2017B30/Python-Essentials/blob/master/Day_4(assignment)_Achal_Saxena.ipynb\" target=\"_parent\"><img src=\"https://colab.research.google.com/assets/colab-badge.svg\" alt=\"Open In Colab\"/></a>"
      ]
    },
    {
      "cell_type": "code",
      "metadata": {
        "id": "3nDDpJJHUY7Z",
        "colab_type": "code",
        "colab": {
          "base_uri": "https://localhost:8080/",
          "height": 34
        },
        "outputId": "f8075112-c5bb-4676-c474-edeb28208360"
      },
      "source": [
        "i = 1042000\n",
        "while i<= 702648265 and i>= 1042000:\n",
        "  order = len(str(i))\n",
        "  sum = 0\n",
        "  temp = i\n",
        "  while temp > 0:\n",
        "    x = temp % 10\n",
        "    sum += x ** o\n",
        "    temp //= 10\n",
        "\n",
        "  if i == sum:\n",
        "    print(i)\n",
        "    break\n",
        "  i = i+1"
      ],
      "execution_count": 6,
      "outputs": [
        {
          "output_type": "stream",
          "text": [
            "1741725\n"
          ],
          "name": "stdout"
        }
      ]
    }
  ]
}